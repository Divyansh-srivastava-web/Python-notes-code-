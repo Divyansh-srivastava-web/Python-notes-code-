{
 "cells": [
  {
   "cell_type": "code",
   "execution_count": 17,
   "id": "4e692333-74e7-4d6d-a4dd-be5eb4ac25d2",
   "metadata": {},
   "outputs": [],
   "source": [
    "#python starting coding \n",
    "#string \n"
   ]
  },
  {
   "cell_type": "code",
   "execution_count": 18,
   "id": "dcc9d931-6b02-4bea-839b-e593051f4e19",
   "metadata": {},
   "outputs": [
    {
     "data": {
      "text/plain": [
       "'hello World'"
      ]
     },
     "execution_count": 18,
     "metadata": {},
     "output_type": "execute_result"
    }
   ],
   "source": [
    "\"hello World\"\n"
   ]
  },
  {
   "cell_type": "code",
   "execution_count": 19,
   "id": "f6c88dc6-eda2-460e-9fe0-ce6697210527",
   "metadata": {},
   "outputs": [],
   "source": [
    "my_string = \"this is a dog\""
   ]
  },
  {
   "cell_type": "code",
   "execution_count": 20,
   "id": "72229cc0-3984-4c96-8805-1e5a1e9dcbc8",
   "metadata": {},
   "outputs": [
    {
     "name": "stdout",
     "output_type": "stream",
     "text": [
      "this is a dog\n"
     ]
    }
   ],
   "source": [
    "print(my_string)"
   ]
  },
  {
   "cell_type": "code",
   "execution_count": 21,
   "id": "30d0a7e1-5aa9-4857-91ba-083e178ea5f6",
   "metadata": {},
   "outputs": [],
   "source": [
    " n = my_string.upper()\n",
    " "
   ]
  },
  {
   "cell_type": "code",
   "execution_count": 22,
   "id": "ccfd6e05-8109-496d-9295-beb2d9f6e78a",
   "metadata": {},
   "outputs": [
    {
     "name": "stdout",
     "output_type": "stream",
     "text": [
      "THIS IS A DOG\n"
     ]
    }
   ],
   "source": [
    "print(n)"
   ]
  },
  {
   "cell_type": "code",
   "execution_count": 23,
   "id": "409e9aa2-329b-4e5e-a90a-ceb9a3020d9a",
   "metadata": {},
   "outputs": [],
   "source": [
    "m = n.lower()"
   ]
  },
  {
   "cell_type": "code",
   "execution_count": 24,
   "id": "75e15cce-8146-420c-9ea7-b98cfd9fc8bf",
   "metadata": {},
   "outputs": [
    {
     "name": "stdout",
     "output_type": "stream",
     "text": [
      "10\n"
     ]
    }
   ],
   "source": [
    "print(m.index(\"d\"))\n"
   ]
  },
  {
   "cell_type": "code",
   "execution_count": 25,
   "id": "476d7282-99b3-4df0-9d86-c9892b260e21",
   "metadata": {},
   "outputs": [
    {
     "data": {
      "text/plain": [
       "'d'"
      ]
     },
     "execution_count": 25,
     "metadata": {},
     "output_type": "execute_result"
    }
   ],
   "source": [
    "m[-3]"
   ]
  },
  {
   "cell_type": "code",
   "execution_count": 26,
   "id": "ba197d37-77a2-4c60-a9df-72c925839030",
   "metadata": {},
   "outputs": [],
   "source": [
    "#slicing\n"
   ]
  },
  {
   "cell_type": "code",
   "execution_count": 27,
   "id": "7126b211-fe93-4ae0-bb71-ebba4713b838",
   "metadata": {},
   "outputs": [],
   "source": [
    "mystr= \"mother father\""
   ]
  },
  {
   "cell_type": "code",
   "execution_count": 28,
   "id": "e1f75dfc-b4ec-485e-a1b7-dcd7ff61c1ae",
   "metadata": {},
   "outputs": [
    {
     "data": {
      "text/plain": [
       "'ther father'"
      ]
     },
     "execution_count": 28,
     "metadata": {},
     "output_type": "execute_result"
    }
   ],
   "source": [
    "mystr[2:]"
   ]
  },
  {
   "cell_type": "code",
   "execution_count": 29,
   "id": "aef4e697-a3e4-43ca-8e2b-df6005760787",
   "metadata": {},
   "outputs": [
    {
     "data": {
      "text/plain": [
       "'moth'"
      ]
     },
     "execution_count": 29,
     "metadata": {},
     "output_type": "execute_result"
    }
   ],
   "source": [
    "mystr[:4]"
   ]
  },
  {
   "cell_type": "code",
   "execution_count": 30,
   "id": "6fcb02dd-914e-4e8e-ab20-6cc0368d1141",
   "metadata": {},
   "outputs": [
    {
     "data": {
      "text/plain": [
       "'rehtaf rehtom'"
      ]
     },
     "execution_count": 30,
     "metadata": {},
     "output_type": "execute_result"
    }
   ],
   "source": [
    "#to reverse a string\n",
    "mystr[::-1]"
   ]
  },
  {
   "cell_type": "code",
   "execution_count": 31,
   "id": "94f36d77-8bf1-428c-a174-fc530793cba2",
   "metadata": {},
   "outputs": [
    {
     "data": {
      "text/plain": [
       "'oefh'"
      ]
     },
     "execution_count": 31,
     "metadata": {},
     "output_type": "execute_result"
    }
   ],
   "source": [
    "mystr[1:12:3]"
   ]
  },
  {
   "cell_type": "code",
   "execution_count": 32,
   "id": "c21abb4e-917c-4005-8a29-4889c4e67584",
   "metadata": {},
   "outputs": [],
   "source": [
    " def vol_of_sphere(r):\n",
    "     return (4/3)*(22/7)*r**3"
   ]
  },
  {
   "cell_type": "code",
   "execution_count": 33,
   "id": "0b00d36d-2b26-4d9f-819e-8e6148e44e0d",
   "metadata": {},
   "outputs": [
    {
     "data": {
      "text/plain": [
       "33.52380952380952"
      ]
     },
     "execution_count": 33,
     "metadata": {},
     "output_type": "execute_result"
    }
   ],
   "source": [
    "vol_of_sphere(2)"
   ]
  },
  {
   "cell_type": "code",
   "execution_count": 50,
   "id": "4ce99215-c1a2-4d54-a9f4-3fdf36c0f95d",
   "metadata": {},
   "outputs": [],
   "source": [
    "#or \n",
    "#we can use import math liberary  import math and after that math.pi for precise pi value"
   ]
  },
  {
   "cell_type": "code",
   "execution_count": null,
   "id": "f09cfc21-1cf0-4284-9d2e-6f80696c19c9",
   "metadata": {},
   "outputs": [],
   "source": [
    "#wap that check given number is in range or not "
   ]
  },
  {
   "cell_type": "code",
   "execution_count": 46,
   "id": "ef7d13a5-3416-408d-a767-9a218dac3fc6",
   "metadata": {},
   "outputs": [],
   "source": [
    "def ran_check(num, low, high):\n",
    "    if num > low and num <high:\n",
    "        print(f\"{num} is in range between {low} and {high}\")\n",
    "        print(True)\n",
    "    else:\n",
    "        print(f\"{num} is not in range between {low} and {high}\")\n",
    "        print(False)\n",
    "        "
   ]
  },
  {
   "cell_type": "code",
   "execution_count": 49,
   "id": "e0966979-2109-4431-9802-88e49e7396e3",
   "metadata": {},
   "outputs": [
    {
     "name": "stdout",
     "output_type": "stream",
     "text": [
      "17 is in range between 2 and 61\n",
      "True\n"
     ]
    }
   ],
   "source": [
    "ran_check(17,2,61)"
   ]
  },
  {
   "cell_type": "code",
   "execution_count": 102,
   "id": "78d8a319-782d-4908-a832-4f2cf4b4e0ed",
   "metadata": {},
   "outputs": [],
   "source": [
    "def upper_lower(str):\n",
    "    x = 0\n",
    "    y = 0 \n",
    "    for alpha in str:\n",
    "        if alpha.isupper():\n",
    "            x +=  1\n",
    "        elif alpha.islower():\n",
    "            y += 1\n",
    "        \n",
    "    print(f\" uppercaseletter in '{str}' are {x} and lowercase {y} \")"
   ]
  },
  {
   "cell_type": "code",
   "execution_count": 103,
   "id": "39129d03-5781-485c-9f8b-41b632616c7a",
   "metadata": {},
   "outputs": [
    {
     "name": "stdout",
     "output_type": "stream",
     "text": [
      " uppercaseletter in 'ThIs is me.' are 2 and lowercase 6 \n"
     ]
    }
   ],
   "source": [
    "upper_lower(\"ThIs is me.\")"
   ]
  },
  {
   "cell_type": "code",
   "execution_count": 119,
   "id": "446c2405-8b84-43f7-91f9-a96e37b51777",
   "metadata": {},
   "outputs": [
    {
     "name": "stdout",
     "output_type": "stream",
     "text": [
      "[-4, 1, 2, 3]\n"
     ]
    },
    {
     "data": {
      "text/plain": [
       "-24"
      ]
     },
     "execution_count": 119,
     "metadata": {},
     "output_type": "execute_result"
    }
   ],
   "source": [
    "mylst = [1,2,3,-4]\n",
    "mylst.sort()\n",
    "print(mylst)\n",
    "def fun(mylst):\n",
    "    x = 1\n",
    "    for a in mylst:\n",
    "        x *= a\n",
    "    return x\n",
    "fun(mylst)        "
   ]
  },
  {
   "cell_type": "code",
   "execution_count": 122,
   "id": "f58a3786-2577-4470-bbd1-726149dce0e7",
   "metadata": {},
   "outputs": [],
   "source": [
    "def ch(str):\n",
    "    if str == str[::-1]:\n",
    "        print(True)\n",
    "    "
   ]
  },
  {
   "cell_type": "code",
   "execution_count": 123,
   "id": "9cc3eb66-2cd2-4161-bc41-c3580ee4a55e",
   "metadata": {},
   "outputs": [
    {
     "name": "stdout",
     "output_type": "stream",
     "text": [
      "True\n"
     ]
    }
   ],
   "source": [
    "\n",
    "ch(\"kayak\")"
   ]
  },
  {
   "cell_type": "code",
   "execution_count": 1,
   "id": "1b129f46-eab9-467f-a9fe-6c3989175de7",
   "metadata": {},
   "outputs": [
    {
     "name": "stdout",
     "output_type": "stream",
     "text": [
      "{1, 2, 3, 4, 5, 6, 7}\n"
     ]
    }
   ],
   "source": [
    "lst = [1,1,1,1,1,2,2,2,2,3,3,3,4,4,5,6,6,7,7,]\n",
    "set = set(lst)\n",
    "print(set)"
   ]
  },
  {
   "cell_type": "code",
   "execution_count": 14,
   "id": "478e648e-9c85-4e86-bab0-e8f1bf619e9f",
   "metadata": {},
   "outputs": [],
   "source": [
    "lst = [1,1,1,1,1,2,2,2,2,3,3,3,4,4,5,6,6,7,7,]\n",
    "def uni(lst):\n",
    "    mylst = []\n",
    "    for a in lst:\n",
    "        if a not in mylst:\n",
    "            mylst.append(a)\n",
    "    return mylst       \n"
   ]
  },
  {
   "cell_type": "code",
   "execution_count": 15,
   "id": "837b6b47-841b-4779-a1c3-b5c744c59a7f",
   "metadata": {},
   "outputs": [
    {
     "data": {
      "text/plain": [
       "[1, 12, 2, 3, 34, 4]"
      ]
     },
     "execution_count": 15,
     "metadata": {},
     "output_type": "execute_result"
    }
   ],
   "source": [
    "mylist = [1,1,1,1,12,2,2,3,3,34,4,4]\n",
    "uni(mylist)\n"
   ]
  },
  {
   "cell_type": "raw",
   "id": "7660b29c-4af9-48cc-8d71-679581e29cdf",
   "metadata": {},
   "source": [
    "#python oops concept "
   ]
  },
  {
   "cell_type": "code",
   "execution_count": 4,
   "id": "a9b6ba3e-2bfc-4002-8a58-b91e5b4f68c3",
   "metadata": {},
   "outputs": [],
   "source": [
    "#class and attribute \n",
    "class ClassName:\n",
    "    def __init__(self,attribute):\n",
    "        self.attribute = attribute\n",
    "    \n",
    "    \n",
    "    "
   ]
  },
  {
   "cell_type": "code",
   "execution_count": 7,
   "id": "6ae965c2-a21c-4ada-999d-1bee4bc51ff7",
   "metadata": {},
   "outputs": [],
   "source": [
    "class Dog:\n",
    "    species = 'mammals'#class object attribute\n",
    "    def __init__(self,breed,name,spot):\n",
    "        self.breed= breed\n",
    "        self.name= name\n",
    "        self.spot= spot\n",
    "\n",
    "sam = Dog(breed='lab',name= 'sam',spot= 'no spot')"
   ]
  },
  {
   "cell_type": "code",
   "execution_count": 8,
   "id": "f6eeb2bb-777c-4ee9-aba9-36862d109b88",
   "metadata": {},
   "outputs": [
    {
     "data": {
      "text/plain": [
       "'lab'"
      ]
     },
     "execution_count": 8,
     "metadata": {},
     "output_type": "execute_result"
    }
   ],
   "source": [
    "sam.breed"
   ]
  },
  {
   "cell_type": "code",
   "execution_count": 9,
   "id": "3f879645-dfeb-4b0a-a875-3132df5ffac2",
   "metadata": {},
   "outputs": [
    {
     "data": {
      "text/plain": [
       "'sam'"
      ]
     },
     "execution_count": 9,
     "metadata": {},
     "output_type": "execute_result"
    }
   ],
   "source": [
    "sam.name"
   ]
  },
  {
   "cell_type": "code",
   "execution_count": 10,
   "id": "ffd85bb3-b0fc-4c42-8f1f-98e57f87b2ed",
   "metadata": {},
   "outputs": [
    {
     "data": {
      "text/plain": [
       "'mammals'"
      ]
     },
     "execution_count": 10,
     "metadata": {},
     "output_type": "execute_result"
    }
   ],
   "source": [
    "sam.species\n"
   ]
  },
  {
   "cell_type": "code",
   "execution_count": 11,
   "id": "e5239d59-4aef-434f-8aee-f6bb65035770",
   "metadata": {},
   "outputs": [
    {
     "data": {
      "text/plain": [
       "'sam'"
      ]
     },
     "execution_count": 11,
     "metadata": {},
     "output_type": "execute_result"
    }
   ],
   "source": [
    "sam.name"
   ]
  },
  {
   "cell_type": "code",
   "execution_count": 12,
   "id": "cf7f49ae-94f4-4a97-a986-7a85404f20f3",
   "metadata": {},
   "outputs": [
    {
     "data": {
      "text/plain": [
       "'no spot'"
      ]
     },
     "execution_count": 12,
     "metadata": {},
     "output_type": "execute_result"
    }
   ],
   "source": [
    "sam.spot"
   ]
  },
  {
   "cell_type": "code",
   "execution_count": 28,
   "id": "b5bdd1b7-8f5d-45a8-bac7-fc82462e418c",
   "metadata": {},
   "outputs": [],
   "source": [
    "#methods\n",
    "class Circle:\n",
    "    pi= 3.14\n",
    "    def __init__(self,radius=1):#here redius have given default value we can change it later.\n",
    "        self.radius = radius\n",
    "        self.area = radius*radius*Circle.pi #here circle.pi is class object attribute we can also use self.pi but first option is easy to understand.\n",
    "    def getCircumference(self): #here we can aslo pass the argument within method \n",
    "        return self.radius*Circle.pi*2\n",
    "        "
   ]
  },
  {
   "cell_type": "code",
   "execution_count": 29,
   "id": "dad9e633-4e0c-4ccc-93ae-1f9f72ea05d7",
   "metadata": {},
   "outputs": [],
   "source": [
    "mycircle = Circle(2) #here we are not using default given radius above but using 2"
   ]
  },
  {
   "cell_type": "code",
   "execution_count": 18,
   "id": "85bc4788-3f58-4d09-8324-36f77afeda24",
   "metadata": {},
   "outputs": [
    {
     "data": {
      "text/plain": [
       "12.56"
      ]
     },
     "execution_count": 18,
     "metadata": {},
     "output_type": "execute_result"
    }
   ],
   "source": [
    "mycircle.area"
   ]
  },
  {
   "cell_type": "code",
   "execution_count": 19,
   "id": "b364533b-3b06-4c3a-a8ed-80d6ae371f23",
   "metadata": {},
   "outputs": [
    {
     "data": {
      "text/plain": [
       "3.14"
      ]
     },
     "execution_count": 19,
     "metadata": {},
     "output_type": "execute_result"
    }
   ],
   "source": [
    "mycircle.pi\n"
   ]
  },
  {
   "cell_type": "code",
   "execution_count": 20,
   "id": "af5f00ca-b5db-465c-8b5c-4ed6d7120d99",
   "metadata": {},
   "outputs": [
    {
     "data": {
      "text/plain": [
       "2"
      ]
     },
     "execution_count": 20,
     "metadata": {},
     "output_type": "execute_result"
    }
   ],
   "source": [
    "mycircle.radius"
   ]
  },
  {
   "cell_type": "code",
   "execution_count": 30,
   "id": "47f53140-3a2e-4c87-a566-1ae0ad766d6a",
   "metadata": {},
   "outputs": [
    {
     "data": {
      "text/plain": [
       "12.56"
      ]
     },
     "execution_count": 30,
     "metadata": {},
     "output_type": "execute_result"
    }
   ],
   "source": [
    "mycircle.getCircumference()"
   ]
  },
  {
   "cell_type": "code",
   "execution_count": 34,
   "id": "a804951b-a97d-467b-95c9-15c7fad7ffaa",
   "metadata": {},
   "outputs": [
    {
     "name": "stdout",
     "output_type": "stream",
     "text": [
      "Animal created\n",
      "Dog created\n"
     ]
    }
   ],
   "source": [
    "class Animal:\n",
    "    def __init__(self):\n",
    "        print(\"Animal created\")\n",
    "\n",
    "    def whoAmI(self):\n",
    "        print(\"Animal\")\n",
    "\n",
    "    def eat(self):\n",
    "        print(\"Eating\")\n",
    "\n",
    "\n",
    "class Dog(Animal):\n",
    "    def __init__(self):\n",
    "        Animal.__init__(self)\n",
    "        print(\"Dog created\")\n",
    "\n",
    "    def whoAmI(self):\n",
    "        print(\"Dog\")\n",
    "\n",
    "    def bark(self):\n",
    "        print(\"Woof!\")\n",
    "\n",
    "\n",
    "d = Dog()"
   ]
  },
  {
   "cell_type": "code",
   "execution_count": 35,
   "id": "75842a38-a59b-4626-bac2-89c1d3d8da2c",
   "metadata": {},
   "outputs": [
    {
     "name": "stdout",
     "output_type": "stream",
     "text": [
      "Woof!\n"
     ]
    }
   ],
   "source": [
    "d.bark()\n"
   ]
  },
  {
   "cell_type": "code",
   "execution_count": 36,
   "id": "59b639da-9fec-4921-8224-33774088aa2e",
   "metadata": {},
   "outputs": [
    {
     "name": "stdout",
     "output_type": "stream",
     "text": [
      "Eating\n"
     ]
    }
   ],
   "source": [
    "d.eat()\n"
   ]
  },
  {
   "cell_type": "code",
   "execution_count": 38,
   "id": "74e39c8c-28c5-496a-9fe1-de0c108f8979",
   "metadata": {},
   "outputs": [
    {
     "name": "stdout",
     "output_type": "stream",
     "text": [
      "Dog\n"
     ]
    }
   ],
   "source": [
    "d.whoAmI()\n"
   ]
  },
  {
   "cell_type": "code",
   "execution_count": 39,
   "id": "8057efc2-33b9-46af-972f-764ca1d2bb74",
   "metadata": {},
   "outputs": [
    {
     "name": "stdout",
     "output_type": "stream",
     "text": [
      "Niko says Woof!\n",
      "Felix says Meow!\n"
     ]
    }
   ],
   "source": [
    "class Dog:\n",
    "    def __init__(self, name):\n",
    "        self.name = name\n",
    "\n",
    "    def speak(self):\n",
    "        return self.name+' says Woof!'\n",
    "    \n",
    "class Cat:\n",
    "    def __init__(self, name):\n",
    "        self.name = name\n",
    "\n",
    "    def speak(self):\n",
    "        return self.name+' says Meow!' \n",
    "    \n",
    "niko = Dog('Niko')\n",
    "felix = Cat('Felix')\n",
    "\n",
    "print(niko.speak())\n",
    "print(felix.speak())"
   ]
  },
  {
   "cell_type": "code",
   "execution_count": 40,
   "id": "739ebd3c-ac52-4794-bba6-b2d60ce33ff6",
   "metadata": {},
   "outputs": [
    {
     "name": "stdout",
     "output_type": "stream",
     "text": [
      "Niko says Woof!\n",
      "Felix says Meow!\n"
     ]
    }
   ],
   "source": [
    "for pet in [niko,felix]:\n",
    "    print(pet.speak())"
   ]
  },
  {
   "cell_type": "code",
   "execution_count": 41,
   "id": "b02d3ec6-46b3-4d18-b60d-fc4f546a0d39",
   "metadata": {},
   "outputs": [
    {
     "name": "stdout",
     "output_type": "stream",
     "text": [
      "Niko says Woof!\n",
      "Felix says Meow!\n"
     ]
    }
   ],
   "source": [
    "def pet_speak(pet):\n",
    "    print(pet.speak())\n",
    "\n",
    "pet_speak(niko)\n",
    "pet_speak(felix)"
   ]
  },
  {
   "cell_type": "raw",
   "id": "c3dd857b-56b7-468c-a405-f3edbf7ea095",
   "metadata": {},
   "source": [
    "A more common practice is to use abstract classes and inheritance. An abstract class is one that never expects to be instantiated. For example, we will never have an Animal object, only Dog and Cat objects, although Dogs and Cats are derived from Animals:"
   ]
  },
  {
   "cell_type": "code",
   "execution_count": 42,
   "id": "955dbc0f-f5b8-417a-8b68-c294b49b0a66",
   "metadata": {},
   "outputs": [
    {
     "name": "stdout",
     "output_type": "stream",
     "text": [
      "Fido says Woof!\n",
      "Isis says Meow!\n"
     ]
    }
   ],
   "source": [
    "class Animal:\n",
    "    def __init__(self, name):    # Constructor of the class\n",
    "        self.name = name\n",
    "\n",
    "    def speak(self):              # Abstract method, defined by convention only\n",
    "        raise NotImplementedError(\"Subclass must implement abstract method\")\n",
    "\n",
    "\n",
    "class Dog(Animal):\n",
    "    \n",
    "    def speak(self):\n",
    "        return self.name+' says Woof!'\n",
    "    \n",
    "class Cat(Animal):\n",
    "\n",
    "    def speak(self):\n",
    "        return self.name+' says Meow!'\n",
    "    \n",
    "fido = Dog('Fido')\n",
    "isis = Cat('Isis')\n",
    "\n",
    "print(fido.speak())\n",
    "print(isis.speak())"
   ]
  },
  {
   "cell_type": "code",
   "execution_count": 46,
   "id": "077f6975-c220-477c-8cfd-aef46a42c796",
   "metadata": {},
   "outputs": [],
   "source": [
    "#special method \n",
    "class Book:\n",
    "    def __init__(self, title, author, pages):\n",
    "        print(\"A book is created\")\n",
    "        self.title = title\n",
    "        self.author = author\n",
    "        self.pages = pages\n",
    "\n",
    "    def __str__(self):\n",
    "          return f\"Title: {self.title}, author: {self.author}, pages: {self.pages}\"\n",
    "\n",
    "    def __len__(self):\n",
    "        return self.pages\n",
    "\n",
    "    def __del__(self):\n",
    "        print(\"A book is destroyed\")"
   ]
  },
  {
   "cell_type": "code",
   "execution_count": 47,
   "id": "d93afe99-84b8-4b01-b139-349453b1299a",
   "metadata": {},
   "outputs": [
    {
     "name": "stdout",
     "output_type": "stream",
     "text": [
      "A book is created\n",
      "Title: Python Rocks!, author: Jose Portilla, pages: 159\n",
      "159\n",
      "A book is destroyed\n"
     ]
    }
   ],
   "source": [
    "book = Book(\"Python Rocks!\", \"Jose Portilla\", 159)\n",
    "\n",
    "#Special Methods\n",
    "print(book)\n",
    "print(len(book))\n",
    "del book"
   ]
  },
  {
   "cell_type": "raw",
   "id": "59ebb45a-880f-4dfd-9e7b-b17ec201e73d",
   "metadata": {},
   "source": [
    "coding ......................."
   ]
  },
  {
   "cell_type": "code",
   "execution_count": 60,
   "id": "a45e0fd3-ff69-4191-9473-9d118d846427",
   "metadata": {},
   "outputs": [],
   "source": [
    "class Cylinder:\n",
    "    pi = 3.14\n",
    "    def __init__(self,height = 1,redius = 1):\n",
    "        self.height= height\n",
    "        self.redius= redius\n",
    "\n",
    "    def volume(self):\n",
    "        return self.redius*self.redius*self.height*Cylinder.pi\n",
    "\n",
    "    def get_area(self):\n",
    "        area = 2*Cylinder.pi*self.redius*self.redius+2*self.redius*self.height*Cylinder.pi\n",
    "        return area\n",
    "c = Cylinder(3,3)       "
   ]
  },
  {
   "cell_type": "code",
   "execution_count": 61,
   "id": "8fa430f3-e08b-4d8b-9eed-773c5b7e2c56",
   "metadata": {},
   "outputs": [
    {
     "data": {
      "text/plain": [
       "84.78"
      ]
     },
     "execution_count": 61,
     "metadata": {},
     "output_type": "execute_result"
    }
   ],
   "source": [
    "c.volume()\n"
   ]
  },
  {
   "cell_type": "code",
   "execution_count": 62,
   "id": "ca0d891b-6268-40ae-b00e-868080f100f3",
   "metadata": {},
   "outputs": [
    {
     "data": {
      "text/plain": [
       "113.03999999999999"
      ]
     },
     "execution_count": 62,
     "metadata": {},
     "output_type": "execute_result"
    }
   ],
   "source": [
    "c.get_area()"
   ]
  },
  {
   "cell_type": "code",
   "execution_count": 73,
   "id": "47ecb756-d40f-4563-9ddc-5924026f7222",
   "metadata": {},
   "outputs": [],
   "source": [
    "class Line:\n",
    "    def __init__(self,co1 = (0,0),co2 = (0,0)):\n",
    "        self.co1 = co1\n",
    "        self.co2 = co2\n",
    "\n",
    "    def slope(self):\n",
    "        a = self.co2[1]-self.co1[1]\n",
    "        b = self.co2[0]-self.co1[0]\n",
    "        m = a/b\n",
    "        return m \n",
    "    def get_distance(self):\n",
    "        a = self.co2[1]-self.co1[1] #y\n",
    "        b = self.co2[0]-self.co1[0] #x\n",
    "        c = a**2\n",
    "        d = b**2\n",
    "        e = c + d \n",
    "        distance = e**0.5\n",
    "        return distance\n",
    "        \n",
    "        \n",
    "l = Line((3,2),(8,10))"
   ]
  },
  {
   "cell_type": "code",
   "execution_count": 71,
   "id": "5dd4c6f4-1bcb-447c-83c2-0b7e1f9de024",
   "metadata": {},
   "outputs": [
    {
     "data": {
      "text/plain": [
       "1.6"
      ]
     },
     "execution_count": 71,
     "metadata": {},
     "output_type": "execute_result"
    }
   ],
   "source": [
    "l.slope()\n"
   ]
  },
  {
   "cell_type": "code",
   "execution_count": 74,
   "id": "414709ee-6504-4de5-9d7c-742ec7df7331",
   "metadata": {},
   "outputs": [
    {
     "data": {
      "text/plain": [
       "9.433981132056603"
      ]
     },
     "execution_count": 74,
     "metadata": {},
     "output_type": "execute_result"
    }
   ],
   "source": [
    "l.get_distance()\n"
   ]
  },
  {
   "cell_type": "code",
   "execution_count": 109,
   "id": "926859a9-09ba-4e8f-961d-81c580f10d0f",
   "metadata": {},
   "outputs": [],
   "source": [
    "class Account:\n",
    "    def __init__(self, owner,balance):\n",
    "        self.owner = owner\n",
    "        self.balance = balance\n",
    "    def __str__(self):\n",
    "        return f\"{self.owner} and {self.balance}\"\n",
    "    def deposit(self,num):\n",
    "       # print(\"deposited amount\"+ num )\n",
    "        sum = self.balance + num \n",
    "        self.balance = sum \n",
    "        print(sum)\n",
    "\n",
    "    def withdraw(self,number1):\n",
    "        if number1 > self.balance:\n",
    "            return \"fund unavailabe\"\n",
    "        else:\n",
    "            self.balance = self.balance - number1\n",
    "            return f\"your account balance is {self.balance}. you have withdrawan {number1}\"\n",
    "        \n",
    "        \n",
    "        \n",
    "\n",
    "a = Account('abhaya',10000000000000000000)"
   ]
  },
  {
   "cell_type": "code",
   "execution_count": 102,
   "id": "fae5c920-9e19-4c0a-a4c3-eb28f6e8ee98",
   "metadata": {},
   "outputs": [
    {
     "name": "stdout",
     "output_type": "stream",
     "text": [
      "abhaya and 10000000000000000000\n"
     ]
    }
   ],
   "source": [
    "print(a)"
   ]
  },
  {
   "cell_type": "code",
   "execution_count": 103,
   "id": "7bed91ef-e1f7-4f97-9789-319c821ee135",
   "metadata": {},
   "outputs": [
    {
     "data": {
      "text/plain": [
       "10000000000000000000"
      ]
     },
     "execution_count": 103,
     "metadata": {},
     "output_type": "execute_result"
    }
   ],
   "source": [
    "a.balance"
   ]
  },
  {
   "cell_type": "code",
   "execution_count": null,
   "id": "1211d425-7746-4935-b274-9585cee93062",
   "metadata": {},
   "outputs": [],
   "source": []
  }
 ],
 "metadata": {
  "kernelspec": {
   "display_name": "Python 3 (ipykernel)",
   "language": "python",
   "name": "python3"
  },
  "language_info": {
   "codemirror_mode": {
    "name": "ipython",
    "version": 3
   },
   "file_extension": ".py",
   "mimetype": "text/x-python",
   "name": "python",
   "nbconvert_exporter": "python",
   "pygments_lexer": "ipython3",
   "version": "3.11.7"
  }
 },
 "nbformat": 4,
 "nbformat_minor": 5
}
