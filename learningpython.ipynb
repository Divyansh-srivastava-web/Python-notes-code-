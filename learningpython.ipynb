{
 "cells": [
  {
   "cell_type": "code",
   "execution_count": 17,
   "id": "4e692333-74e7-4d6d-a4dd-be5eb4ac25d2",
   "metadata": {},
   "outputs": [],
   "source": [
    "#python starting coding \n",
    "#string \n"
   ]
  },
  {
   "cell_type": "code",
   "execution_count": 18,
   "id": "dcc9d931-6b02-4bea-839b-e593051f4e19",
   "metadata": {},
   "outputs": [
    {
     "data": {
      "text/plain": [
       "'hello World'"
      ]
     },
     "execution_count": 18,
     "metadata": {},
     "output_type": "execute_result"
    }
   ],
   "source": [
    "\"hello World\"\n"
   ]
  },
  {
   "cell_type": "code",
   "execution_count": 19,
   "id": "f6c88dc6-eda2-460e-9fe0-ce6697210527",
   "metadata": {},
   "outputs": [],
   "source": [
    "my_string = \"this is a dog\""
   ]
  },
  {
   "cell_type": "code",
   "execution_count": 20,
   "id": "72229cc0-3984-4c96-8805-1e5a1e9dcbc8",
   "metadata": {},
   "outputs": [
    {
     "name": "stdout",
     "output_type": "stream",
     "text": [
      "this is a dog\n"
     ]
    }
   ],
   "source": [
    "print(my_string)"
   ]
  },
  {
   "cell_type": "code",
   "execution_count": 21,
   "id": "30d0a7e1-5aa9-4857-91ba-083e178ea5f6",
   "metadata": {},
   "outputs": [],
   "source": [
    " n = my_string.upper()\n",
    " "
   ]
  },
  {
   "cell_type": "code",
   "execution_count": 22,
   "id": "ccfd6e05-8109-496d-9295-beb2d9f6e78a",
   "metadata": {},
   "outputs": [
    {
     "name": "stdout",
     "output_type": "stream",
     "text": [
      "THIS IS A DOG\n"
     ]
    }
   ],
   "source": [
    "print(n)"
   ]
  },
  {
   "cell_type": "code",
   "execution_count": 23,
   "id": "409e9aa2-329b-4e5e-a90a-ceb9a3020d9a",
   "metadata": {},
   "outputs": [],
   "source": [
    "m = n.lower()"
   ]
  },
  {
   "cell_type": "code",
   "execution_count": 24,
   "id": "75e15cce-8146-420c-9ea7-b98cfd9fc8bf",
   "metadata": {},
   "outputs": [
    {
     "name": "stdout",
     "output_type": "stream",
     "text": [
      "10\n"
     ]
    }
   ],
   "source": [
    "print(m.index(\"d\"))\n"
   ]
  },
  {
   "cell_type": "code",
   "execution_count": 25,
   "id": "476d7282-99b3-4df0-9d86-c9892b260e21",
   "metadata": {},
   "outputs": [
    {
     "data": {
      "text/plain": [
       "'d'"
      ]
     },
     "execution_count": 25,
     "metadata": {},
     "output_type": "execute_result"
    }
   ],
   "source": [
    "m[-3]"
   ]
  },
  {
   "cell_type": "code",
   "execution_count": 26,
   "id": "ba197d37-77a2-4c60-a9df-72c925839030",
   "metadata": {},
   "outputs": [],
   "source": [
    "#slicing\n"
   ]
  },
  {
   "cell_type": "code",
   "execution_count": 27,
   "id": "7126b211-fe93-4ae0-bb71-ebba4713b838",
   "metadata": {},
   "outputs": [],
   "source": [
    "mystr= \"mother father\""
   ]
  },
  {
   "cell_type": "code",
   "execution_count": 28,
   "id": "e1f75dfc-b4ec-485e-a1b7-dcd7ff61c1ae",
   "metadata": {},
   "outputs": [
    {
     "data": {
      "text/plain": [
       "'ther father'"
      ]
     },
     "execution_count": 28,
     "metadata": {},
     "output_type": "execute_result"
    }
   ],
   "source": [
    "mystr[2:]"
   ]
  },
  {
   "cell_type": "code",
   "execution_count": 29,
   "id": "aef4e697-a3e4-43ca-8e2b-df6005760787",
   "metadata": {},
   "outputs": [
    {
     "data": {
      "text/plain": [
       "'moth'"
      ]
     },
     "execution_count": 29,
     "metadata": {},
     "output_type": "execute_result"
    }
   ],
   "source": [
    "mystr[:4]"
   ]
  },
  {
   "cell_type": "code",
   "execution_count": 30,
   "id": "6fcb02dd-914e-4e8e-ab20-6cc0368d1141",
   "metadata": {},
   "outputs": [
    {
     "data": {
      "text/plain": [
       "'rehtaf rehtom'"
      ]
     },
     "execution_count": 30,
     "metadata": {},
     "output_type": "execute_result"
    }
   ],
   "source": [
    "#to reverse a string\n",
    "mystr[::-1]"
   ]
  },
  {
   "cell_type": "code",
   "execution_count": 31,
   "id": "94f36d77-8bf1-428c-a174-fc530793cba2",
   "metadata": {},
   "outputs": [
    {
     "data": {
      "text/plain": [
       "'oefh'"
      ]
     },
     "execution_count": 31,
     "metadata": {},
     "output_type": "execute_result"
    }
   ],
   "source": [
    "mystr[1:12:3]"
   ]
  },
  {
   "cell_type": "code",
   "execution_count": 32,
   "id": "c21abb4e-917c-4005-8a29-4889c4e67584",
   "metadata": {},
   "outputs": [],
   "source": [
    " def vol_of_sphere(r):\n",
    "     return (4/3)*(22/7)*r**3"
   ]
  },
  {
   "cell_type": "code",
   "execution_count": 33,
   "id": "0b00d36d-2b26-4d9f-819e-8e6148e44e0d",
   "metadata": {},
   "outputs": [
    {
     "data": {
      "text/plain": [
       "33.52380952380952"
      ]
     },
     "execution_count": 33,
     "metadata": {},
     "output_type": "execute_result"
    }
   ],
   "source": [
    "vol_of_sphere(2)"
   ]
  },
  {
   "cell_type": "code",
   "execution_count": 50,
   "id": "4ce99215-c1a2-4d54-a9f4-3fdf36c0f95d",
   "metadata": {},
   "outputs": [],
   "source": [
    "#or \n",
    "#we can use import math liberary  import math and after that math.pi for precise pi value"
   ]
  },
  {
   "cell_type": "code",
   "execution_count": null,
   "id": "f09cfc21-1cf0-4284-9d2e-6f80696c19c9",
   "metadata": {},
   "outputs": [],
   "source": [
    "#wap that check given number is in range or not "
   ]
  },
  {
   "cell_type": "code",
   "execution_count": 46,
   "id": "ef7d13a5-3416-408d-a767-9a218dac3fc6",
   "metadata": {},
   "outputs": [],
   "source": [
    "def ran_check(num, low, high):\n",
    "    if num > low and num <high:\n",
    "        print(f\"{num} is in range between {low} and {high}\")\n",
    "        print(True)\n",
    "    else:\n",
    "        print(f\"{num} is not in range between {low} and {high}\")\n",
    "        print(False)\n",
    "        "
   ]
  },
  {
   "cell_type": "code",
   "execution_count": 49,
   "id": "e0966979-2109-4431-9802-88e49e7396e3",
   "metadata": {},
   "outputs": [
    {
     "name": "stdout",
     "output_type": "stream",
     "text": [
      "17 is in range between 2 and 61\n",
      "True\n"
     ]
    }
   ],
   "source": [
    "ran_check(17,2,61)"
   ]
  },
  {
   "cell_type": "code",
   "execution_count": 102,
   "id": "78d8a319-782d-4908-a832-4f2cf4b4e0ed",
   "metadata": {},
   "outputs": [],
   "source": [
    "def upper_lower(str):\n",
    "    x = 0\n",
    "    y = 0 \n",
    "    for alpha in str:\n",
    "        if alpha.isupper():\n",
    "            x +=  1\n",
    "        elif alpha.islower():\n",
    "            y += 1\n",
    "        \n",
    "    print(f\" uppercaseletter in '{str}' are {x} and lowercase {y} \")"
   ]
  },
  {
   "cell_type": "code",
   "execution_count": 103,
   "id": "39129d03-5781-485c-9f8b-41b632616c7a",
   "metadata": {},
   "outputs": [
    {
     "name": "stdout",
     "output_type": "stream",
     "text": [
      " uppercaseletter in 'ThIs is me.' are 2 and lowercase 6 \n"
     ]
    }
   ],
   "source": [
    "upper_lower(\"ThIs is me.\")"
   ]
  },
  {
   "cell_type": "code",
   "execution_count": 119,
   "id": "446c2405-8b84-43f7-91f9-a96e37b51777",
   "metadata": {},
   "outputs": [
    {
     "name": "stdout",
     "output_type": "stream",
     "text": [
      "[-4, 1, 2, 3]\n"
     ]
    },
    {
     "data": {
      "text/plain": [
       "-24"
      ]
     },
     "execution_count": 119,
     "metadata": {},
     "output_type": "execute_result"
    }
   ],
   "source": [
    "mylst = [1,2,3,-4]\n",
    "mylst.sort()\n",
    "print(mylst)\n",
    "def fun(mylst):\n",
    "    x = 1\n",
    "    for a in mylst:\n",
    "        x *= a\n",
    "    return x\n",
    "fun(mylst)        "
   ]
  },
  {
   "cell_type": "code",
   "execution_count": 122,
   "id": "f58a3786-2577-4470-bbd1-726149dce0e7",
   "metadata": {},
   "outputs": [],
   "source": [
    "def ch(str):\n",
    "    if str == str[::-1]:\n",
    "        print(True)\n",
    "    "
   ]
  },
  {
   "cell_type": "code",
   "execution_count": 123,
   "id": "9cc3eb66-2cd2-4161-bc41-c3580ee4a55e",
   "metadata": {},
   "outputs": [
    {
     "name": "stdout",
     "output_type": "stream",
     "text": [
      "True\n"
     ]
    }
   ],
   "source": [
    "\n",
    "ch(\"kayak\")"
   ]
  },
  {
   "cell_type": "code",
   "execution_count": 1,
   "id": "1b129f46-eab9-467f-a9fe-6c3989175de7",
   "metadata": {},
   "outputs": [
    {
     "name": "stdout",
     "output_type": "stream",
     "text": [
      "{1, 2, 3, 4, 5, 6, 7}\n"
     ]
    }
   ],
   "source": [
    "lst = [1,1,1,1,1,2,2,2,2,3,3,3,4,4,5,6,6,7,7,]\n",
    "set = set(lst)\n",
    "print(set)"
   ]
  },
  {
   "cell_type": "code",
   "execution_count": 14,
   "id": "478e648e-9c85-4e86-bab0-e8f1bf619e9f",
   "metadata": {},
   "outputs": [],
   "source": [
    "lst = [1,1,1,1,1,2,2,2,2,3,3,3,4,4,5,6,6,7,7,]\n",
    "def uni(lst):\n",
    "    mylst = []\n",
    "    for a in lst:\n",
    "        if a not in mylst:\n",
    "            mylst.append(a)\n",
    "    return mylst       \n"
   ]
  },
  {
   "cell_type": "code",
   "execution_count": 15,
   "id": "837b6b47-841b-4779-a1c3-b5c744c59a7f",
   "metadata": {},
   "outputs": [
    {
     "data": {
      "text/plain": [
       "[1, 12, 2, 3, 34, 4]"
      ]
     },
     "execution_count": 15,
     "metadata": {},
     "output_type": "execute_result"
    }
   ],
   "source": [
    "mylist = [1,1,1,1,12,2,2,3,3,34,4,4]\n",
    "uni(mylist)\n"
   ]
  },
  {
   "cell_type": "code",
   "execution_count": null,
   "id": "9823958e-d651-4f46-8cc6-60720d1268fd",
   "metadata": {},
   "outputs": [],
   "source": [
    "def pe"
   ]
  }
 ],
 "metadata": {
  "kernelspec": {
   "display_name": "Python 3 (ipykernel)",
   "language": "python",
   "name": "python3"
  },
  "language_info": {
   "codemirror_mode": {
    "name": "ipython",
    "version": 3
   },
   "file_extension": ".py",
   "mimetype": "text/x-python",
   "name": "python",
   "nbconvert_exporter": "python",
   "pygments_lexer": "ipython3",
   "version": "3.11.7"
  }
 },
 "nbformat": 4,
 "nbformat_minor": 5
}
